{
 "cells": [
  {
   "cell_type": "code",
   "execution_count": 1,
   "metadata": {},
   "outputs": [],
   "source": [
    "import numpy as np\n",
    "import pandas as pd\n",
    "import matplotlib.pyplot as plt\n",
    "import seaborn as sns"
   ]
  },
  {
   "cell_type": "markdown",
   "metadata": {},
   "source": [
    "Load the dataset"
   ]
  },
  {
   "cell_type": "code",
   "execution_count": 2,
   "metadata": {},
   "outputs": [
    {
     "data": {
      "text/html": [
       "<div>\n",
       "<style scoped>\n",
       "    .dataframe tbody tr th:only-of-type {\n",
       "        vertical-align: middle;\n",
       "    }\n",
       "\n",
       "    .dataframe tbody tr th {\n",
       "        vertical-align: top;\n",
       "    }\n",
       "\n",
       "    .dataframe thead th {\n",
       "        text-align: right;\n",
       "    }\n",
       "</style>\n",
       "<table border=\"1\" class=\"dataframe\">\n",
       "  <thead>\n",
       "    <tr style=\"text-align: right;\">\n",
       "      <th></th>\n",
       "      <th>sentiment</th>\n",
       "      <th>ids</th>\n",
       "      <th>date</th>\n",
       "      <th>flag</th>\n",
       "      <th>user</th>\n",
       "      <th>text</th>\n",
       "    </tr>\n",
       "  </thead>\n",
       "  <tbody>\n",
       "    <tr>\n",
       "      <th>0</th>\n",
       "      <td>0</td>\n",
       "      <td>1467810369</td>\n",
       "      <td>Mon Apr 06 22:19:45 PDT 2009</td>\n",
       "      <td>NO_QUERY</td>\n",
       "      <td>_TheSpecialOne_</td>\n",
       "      <td>@switchfoot http://twitpic.com/2y1zl - Awww, t...</td>\n",
       "    </tr>\n",
       "    <tr>\n",
       "      <th>1</th>\n",
       "      <td>0</td>\n",
       "      <td>1467810672</td>\n",
       "      <td>Mon Apr 06 22:19:49 PDT 2009</td>\n",
       "      <td>NO_QUERY</td>\n",
       "      <td>scotthamilton</td>\n",
       "      <td>is upset that he can't update his Facebook by ...</td>\n",
       "    </tr>\n",
       "    <tr>\n",
       "      <th>2</th>\n",
       "      <td>0</td>\n",
       "      <td>1467810917</td>\n",
       "      <td>Mon Apr 06 22:19:53 PDT 2009</td>\n",
       "      <td>NO_QUERY</td>\n",
       "      <td>mattycus</td>\n",
       "      <td>@Kenichan I dived many times for the ball. Man...</td>\n",
       "    </tr>\n",
       "    <tr>\n",
       "      <th>3</th>\n",
       "      <td>0</td>\n",
       "      <td>1467811184</td>\n",
       "      <td>Mon Apr 06 22:19:57 PDT 2009</td>\n",
       "      <td>NO_QUERY</td>\n",
       "      <td>ElleCTF</td>\n",
       "      <td>my whole body feels itchy and like its on fire</td>\n",
       "    </tr>\n",
       "    <tr>\n",
       "      <th>4</th>\n",
       "      <td>0</td>\n",
       "      <td>1467811193</td>\n",
       "      <td>Mon Apr 06 22:19:57 PDT 2009</td>\n",
       "      <td>NO_QUERY</td>\n",
       "      <td>Karoli</td>\n",
       "      <td>@nationwideclass no, it's not behaving at all....</td>\n",
       "    </tr>\n",
       "  </tbody>\n",
       "</table>\n",
       "</div>"
      ],
      "text/plain": [
       "   sentiment         ids                          date      flag  \\\n",
       "0          0  1467810369  Mon Apr 06 22:19:45 PDT 2009  NO_QUERY   \n",
       "1          0  1467810672  Mon Apr 06 22:19:49 PDT 2009  NO_QUERY   \n",
       "2          0  1467810917  Mon Apr 06 22:19:53 PDT 2009  NO_QUERY   \n",
       "3          0  1467811184  Mon Apr 06 22:19:57 PDT 2009  NO_QUERY   \n",
       "4          0  1467811193  Mon Apr 06 22:19:57 PDT 2009  NO_QUERY   \n",
       "\n",
       "              user                                               text  \n",
       "0  _TheSpecialOne_  @switchfoot http://twitpic.com/2y1zl - Awww, t...  \n",
       "1    scotthamilton  is upset that he can't update his Facebook by ...  \n",
       "2         mattycus  @Kenichan I dived many times for the ball. Man...  \n",
       "3          ElleCTF    my whole body feels itchy and like its on fire   \n",
       "4           Karoli  @nationwideclass no, it's not behaving at all....  "
      ]
     },
     "execution_count": 2,
     "metadata": {},
     "output_type": "execute_result"
    }
   ],
   "source": [
    "columns  = [\"sentiment\", \"ids\", \"date\", \"flag\", \"user\", \"text\"]\n",
    "df= pd.read_csv(\"training.1600000.processed.noemoticon.csv\", encoding = \"ISO-8859-1\", names = columns)\n",
    "df.head()"
   ]
  },
  {
   "cell_type": "code",
   "execution_count": 3,
   "metadata": {},
   "outputs": [
    {
     "data": {
      "text/plain": [
       "(1600000, 6)"
      ]
     },
     "execution_count": 3,
     "metadata": {},
     "output_type": "execute_result"
    }
   ],
   "source": [
    "df.shape"
   ]
  },
  {
   "cell_type": "markdown",
   "metadata": {},
   "source": [
    "Sampling the dataset"
   ]
  },
  {
   "cell_type": "code",
   "execution_count": 4,
   "metadata": {},
   "outputs": [
    {
     "data": {
      "text/html": [
       "<div>\n",
       "<style scoped>\n",
       "    .dataframe tbody tr th:only-of-type {\n",
       "        vertical-align: middle;\n",
       "    }\n",
       "\n",
       "    .dataframe tbody tr th {\n",
       "        vertical-align: top;\n",
       "    }\n",
       "\n",
       "    .dataframe thead th {\n",
       "        text-align: right;\n",
       "    }\n",
       "</style>\n",
       "<table border=\"1\" class=\"dataframe\">\n",
       "  <thead>\n",
       "    <tr style=\"text-align: right;\">\n",
       "      <th></th>\n",
       "      <th>index</th>\n",
       "      <th>sentiment</th>\n",
       "      <th>text</th>\n",
       "    </tr>\n",
       "  </thead>\n",
       "  <tbody>\n",
       "    <tr>\n",
       "      <th>0</th>\n",
       "      <td>670935</td>\n",
       "      <td>0</td>\n",
       "      <td>@TheRealScarab PA system bugs are a bummer, so...</td>\n",
       "    </tr>\n",
       "    <tr>\n",
       "      <th>1</th>\n",
       "      <td>649589</td>\n",
       "      <td>0</td>\n",
       "      <td>oh daaamnnn! the firemen ball's on the 14th an...</td>\n",
       "    </tr>\n",
       "    <tr>\n",
       "      <th>2</th>\n",
       "      <td>2028</td>\n",
       "      <td>0</td>\n",
       "      <td>I don't want to be cold in April, but I am</td>\n",
       "    </tr>\n",
       "    <tr>\n",
       "      <th>3</th>\n",
       "      <td>669856</td>\n",
       "      <td>0</td>\n",
       "      <td>@JaredOngie haha its too cold down here  bt ot...</td>\n",
       "    </tr>\n",
       "    <tr>\n",
       "      <th>4</th>\n",
       "      <td>458897</td>\n",
       "      <td>0</td>\n",
       "      <td>Upset I can't find my CHI!</td>\n",
       "    </tr>\n",
       "    <tr>\n",
       "      <th>...</th>\n",
       "      <td>...</td>\n",
       "      <td>...</td>\n",
       "      <td>...</td>\n",
       "    </tr>\n",
       "    <tr>\n",
       "      <th>99995</th>\n",
       "      <td>1006064</td>\n",
       "      <td>4</td>\n",
       "      <td>Off in a bit to meet Spuds new family at his f...</td>\n",
       "    </tr>\n",
       "    <tr>\n",
       "      <th>99996</th>\n",
       "      <td>1497567</td>\n",
       "      <td>4</td>\n",
       "      <td>watching videos in youtube about Drake Bell..</td>\n",
       "    </tr>\n",
       "    <tr>\n",
       "      <th>99997</th>\n",
       "      <td>1506693</td>\n",
       "      <td>4</td>\n",
       "      <td>who wants to go to the laker parade with me</td>\n",
       "    </tr>\n",
       "    <tr>\n",
       "      <th>99998</th>\n",
       "      <td>1061627</td>\n",
       "      <td>4</td>\n",
       "      <td>@BELAI83 i'm great!!!hang out but i have to co...</td>\n",
       "    </tr>\n",
       "    <tr>\n",
       "      <th>99999</th>\n",
       "      <td>1152613</td>\n",
       "      <td>4</td>\n",
       "      <td>just got home from Julius grad party</td>\n",
       "    </tr>\n",
       "  </tbody>\n",
       "</table>\n",
       "<p>100000 rows × 3 columns</p>\n",
       "</div>"
      ],
      "text/plain": [
       "         index  sentiment                                               text\n",
       "0       670935          0  @TheRealScarab PA system bugs are a bummer, so...\n",
       "1       649589          0  oh daaamnnn! the firemen ball's on the 14th an...\n",
       "2         2028          0        I don't want to be cold in April, but I am \n",
       "3       669856          0  @JaredOngie haha its too cold down here  bt ot...\n",
       "4       458897          0                        Upset I can't find my CHI! \n",
       "...        ...        ...                                                ...\n",
       "99995  1006064          4  Off in a bit to meet Spuds new family at his f...\n",
       "99996  1497567          4     watching videos in youtube about Drake Bell.. \n",
       "99997  1506693          4       who wants to go to the laker parade with me \n",
       "99998  1061627          4  @BELAI83 i'm great!!!hang out but i have to co...\n",
       "99999  1152613          4              just got home from Julius grad party \n",
       "\n",
       "[100000 rows x 3 columns]"
      ]
     },
     "execution_count": 4,
     "metadata": {},
     "output_type": "execute_result"
    }
   ],
   "source": [
    "df_sampled = df.groupby('sentiment')[['sentiment', 'text']].sample(n=50000, random_state=1)\n",
    "df_sampled.reset_index(inplace=True)\n",
    "df_sampled"
   ]
  },
  {
   "cell_type": "code",
   "execution_count": 5,
   "metadata": {},
   "outputs": [
    {
     "data": {
      "text/plain": [
       "<Axes: xlabel='sentiment'>"
      ]
     },
     "execution_count": 5,
     "metadata": {},
     "output_type": "execute_result"
    },
    {
     "data": {
      "image/png": "[encoded data removed]",
      "text/plain": [
       "<Figure size 640x480 with 1 Axes>"
      ]
     },
     "metadata": {},
     "output_type": "display_data"
    }
   ],
   "source": [
    "df_sampled.groupby(['sentiment']).size().plot(kind='bar')"
   ]
  },
  {
   "cell_type": "code",
   "execution_count": 6,
   "metadata": {},
   "outputs": [
    {
     "data": {
      "text/plain": [
       "index        0\n",
       "sentiment    0\n",
       "text         0\n",
       "dtype: int64"
      ]
     },
     "execution_count": 6,
     "metadata": {},
     "output_type": "execute_result"
    }
   ],
   "source": [
    "df_sampled.isnull().sum()"
   ]
  },
  {
   "cell_type": "markdown",
   "metadata": {},
   "source": [
    "WordCloud"
   ]
  },
  {
   "cell_type": "code",
   "execution_count": 7,
   "metadata": {},
   "outputs": [
    {
     "name": "stdout",
     "output_type": "stream",
     "text": [
      "Requirement already satisfied: wordcloud in /home/kevinzhu224/.local/lib/python3.8/site-packages (1.9.2)\n",
      "Requirement already satisfied: pillow in /usr/lib/python3/dist-packages (from wordcloud) (7.0.0)\n",
      "Requirement already satisfied: matplotlib in /home/kevinzhu224/.local/lib/python3.8/site-packages (from wordcloud) (3.7.3)\n",
      "Requirement already satisfied: numpy>=1.6.1 in /home/kevinzhu224/.local/lib/python3.8/site-packages (from wordcloud) (1.24.4)\n",
      "Requirement already satisfied: importlib-resources>=3.2.0; python_version < \"3.10\" in /home/kevinzhu224/.local/lib/python3.8/site-packages (from matplotlib->wordcloud) (6.1.1)\n",
      "Requirement already satisfied: python-dateutil>=2.7 in /home/kevinzhu224/.local/lib/python3.8/site-packages (from matplotlib->wordcloud) (2.8.2)\n",
      "Requirement already satisfied: contourpy>=1.0.1 in /home/kevinzhu224/.local/lib/python3.8/site-packages (from matplotlib->wordcloud) (1.1.1)\n",
      "Requirement already satisfied: kiwisolver>=1.0.1 in /home/kevinzhu224/.local/lib/python3.8/site-packages (from matplotlib->wordcloud) (1.4.5)\n",
      "Requirement already satisfied: pyparsing>=2.3.1 in /home/kevinzhu224/.local/lib/python3.8/site-packages (from matplotlib->wordcloud) (3.1.1)\n",
      "Requirement already satisfied: packaging>=20.0 in /home/kevinzhu224/.local/lib/python3.8/site-packages (from matplotlib->wordcloud) (23.2)\n",
      "Requirement already satisfied: cycler>=0.10 in /home/kevinzhu224/.local/lib/python3.8/site-packages (from matplotlib->wordcloud) (0.12.1)\n",
      "Requirement already satisfied: fonttools>=4.22.0 in /home/kevinzhu224/.local/lib/python3.8/site-packages (from matplotlib->wordcloud) (4.44.3)\n",
      "Requirement already satisfied: zipp>=3.1.0; python_version < \"3.10\" in /home/kevinzhu224/.local/lib/python3.8/site-packages (from importlib-resources>=3.2.0; python_version < \"3.10\"->matplotlib->wordcloud) (3.17.0)\n",
      "Requirement already satisfied: six>=1.5 in /usr/lib/python3/dist-packages (from python-dateutil>=2.7->matplotlib->wordcloud) (1.14.0)\n"
     ]
    }
   ],
   "source": [
    "!pip install wordcloud"
   ]
  },
  {
   "cell_type": "code",
   "execution_count": 8,
   "metadata": {},
   "outputs": [],
   "source": [
    "# from wordcloud import WordCloud\n",
    "# plt.figure(figsize=(20, 10))\n",
    "\n",
    "# # Combine all text entries from the 'text' column of your dataframe into a single string\n",
    "# text_combined = \" \".join(cat for cat in df_sampled.text)\n",
    "# word_cloud = WordCloud(\n",
    "#     collocations=False, \n",
    "#     background_color='white', \n",
    "#     width=2000, \n",
    "#     height=1000\n",
    "# ).generate(text_combined)\n",
    "\n",
    "# # Display the generated Word Cloud\n",
    "# plt.imshow(word_cloud, interpolation='bilinear')\n",
    "# plt.axis(\"off\")  # Turn off the axis numbers and labels\n",
    "# plt.show()  # Display the plot"
   ]
  },
  {
   "cell_type": "markdown",
   "metadata": {},
   "source": [
    "Preprocessing \n",
    "\n",
    "1. Lower case\n",
    "2. Removing urls\n",
    "3. Removing usernames\n",
    "4. Replace emojis\n",
    "5. Remove the chat words and numbers(e.g lol to laugh out loud , 1 to one)\n",
    "6. replace contractions\n",
    "7. Remove punctuations\n",
    "8. Lemmatization and replace consecutive letters\n",
    "9. Remove stopwords"
   ]
  },
  {
   "cell_type": "code",
   "execution_count": 9,
   "metadata": {},
   "outputs": [
    {
     "data": {
      "text/html": [
       "<div>\n",
       "<style scoped>\n",
       "    .dataframe tbody tr th:only-of-type {\n",
       "        vertical-align: middle;\n",
       "    }\n",
       "\n",
       "    .dataframe tbody tr th {\n",
       "        vertical-align: top;\n",
       "    }\n",
       "\n",
       "    .dataframe thead th {\n",
       "        text-align: right;\n",
       "    }\n",
       "</style>\n",
       "<table border=\"1\" class=\"dataframe\">\n",
       "  <thead>\n",
       "    <tr style=\"text-align: right;\">\n",
       "      <th></th>\n",
       "      <th>acronym</th>\n",
       "      <th>expansion</th>\n",
       "    </tr>\n",
       "  </thead>\n",
       "  <tbody>\n",
       "    <tr>\n",
       "      <th>0</th>\n",
       "      <td>2day</td>\n",
       "      <td>today</td>\n",
       "    </tr>\n",
       "    <tr>\n",
       "      <th>1</th>\n",
       "      <td>2m2h</td>\n",
       "      <td>too much too handle</td>\n",
       "    </tr>\n",
       "    <tr>\n",
       "      <th>2</th>\n",
       "      <td>2moro</td>\n",
       "      <td>tomorrow</td>\n",
       "    </tr>\n",
       "    <tr>\n",
       "      <th>3</th>\n",
       "      <td>2nite</td>\n",
       "      <td>tonight</td>\n",
       "    </tr>\n",
       "    <tr>\n",
       "      <th>4</th>\n",
       "      <td>4eae</td>\n",
       "      <td>for ever and ever</td>\n",
       "    </tr>\n",
       "  </tbody>\n",
       "</table>\n",
       "</div>"
      ],
      "text/plain": [
       "  acronym            expansion\n",
       "0    2day                today\n",
       "1    2m2h  too much too handle\n",
       "2   2moro             tomorrow\n",
       "3   2nite              tonight\n",
       "4    4eae    for ever and ever"
      ]
     },
     "execution_count": 9,
     "metadata": {},
     "output_type": "execute_result"
    }
   ],
   "source": [
    "from num2words import num2words\n",
    "slangDf = pd.read_csv(\"slang.csv\")\n",
    "slangDf=slangDf[['acronym','expansion']]\n",
    "slangDf.head()\n"
   ]
  },
  {
   "cell_type": "code",
   "execution_count": 10,
   "metadata": {},
   "outputs": [
    {
     "data": {
      "text/plain": [
       "'laughing out loud'"
      ]
     },
     "execution_count": 10,
     "metadata": {},
     "output_type": "execute_result"
    }
   ],
   "source": [
    "def replace_chat_words(text):\n",
    "    normal_word=slangDf[slangDf['acronym'].isin([text])]['expansion'].values\n",
    "    if len(normal_word)>=1:\n",
    "        if text=='lol':\n",
    "            return normal_word[1]\n",
    "        else:\n",
    "            return normal_word[0]\n",
    "    elif text.isnumeric():\n",
    "        return num2words(text)\n",
    "    else:\n",
    "        return text\n",
    "    \n",
    "replace_chat_words('lol')"
   ]
  },
  {
   "cell_type": "code",
   "execution_count": 11,
   "metadata": {},
   "outputs": [],
   "source": [
    "import re\n",
    "import emoji\n",
    "import contractions as con\n",
    "import string\n",
    "import en_core_web_lg\n",
    "# pip install spacy\n",
    "# python -m spacy download en_core_web_lg\n",
    "from autocorrect import Speller\n",
    "\n",
    "nlp=en_core_web_lg.load()\n",
    "speller=Speller(lang='en')\n",
    "stop_words=nlp.Defaults.stop_words\n",
    "\n",
    "def preprocessingText(text):\n",
    "  text = text.lower()\n",
    "  # Remove urls\n",
    "  text = re.sub(r\"http\\S+|www\\S+|https\\S+\", '', text, flags=re.MULTILINE)\n",
    "  # # Remove usernames\n",
    "  text = re.sub(r'@[^\\s]+','', text)\n",
    "  # # Replace all emojis from the emoji shortcodes\n",
    "  text = emoji.demojize(text)\n",
    "  # # Replace chat words and numbers\n",
    "  text = \" \".join([replace_chat_words(word) for word in text.split()])\n",
    "  # Replace contraction words\n",
    "  text=con.fix(text)\n",
    "  # Remove punctuations\n",
    "  text = \"\".join([i for i in text if i not in string.punctuation])\n",
    "  # Replace 3 or more consecutive letters by 1 letter and lemmatizing the words\n",
    "  text = \" \".join([re.sub(r\"(.)\\1\\1+\", r\"\\1\", str(token)) if token.pos_ in [\"PROPN\", 'NOUN'] else token.lemma_ for token in nlp(text)])\n",
    "  # Replace misspelled words\n",
    "  text=speller(text)\n",
    "  # Remove stopwords\n",
    "  text = \" \".join([word for word in text.split() if word not in stop_words])\n",
    "\n",
    "  text = text.strip()\n",
    "\n",
    "  return text\n"
   ]
  },
  {
   "cell_type": "code",
   "execution_count": 12,
   "metadata": {},
   "outputs": [
    {
     "name": "stderr",
     "output_type": "stream",
     "text": [
      "23/11/15 19:18:54 WARN Utils: Your hostname, ubuntu resolves to a loopback address: 127.0.1.1; using 192.168.234.128 instead (on interface ens33)\n",
      "23/11/15 19:18:54 WARN Utils: Set SPARK_LOCAL_IP if you need to bind to another address\n",
      "23/11/15 19:18:54 WARN NativeCodeLoader: Unable to load native-hadoop library for your platform... using builtin-java classes where applicable\n",
      "Using Spark's default log4j profile: org/apache/spark/log4j-defaults.properties\n",
      "Setting default log level to \"WARN\".\n",
      "To adjust logging level use sc.setLogLevel(newLevel). For SparkR, use setLogLevel(newLevel).\n"
     ]
    }
   ],
   "source": [
    "from pyspark import SparkContext,SparkConf\n",
    "from pyspark.sql import SQLContext,Row \n",
    "\n",
    "conf=SparkConf()\n",
    "sc=SparkContext(conf=conf)\n",
    "sqlContext=SQLContext(sc)\n"
   ]
  },
  {
   "cell_type": "code",
   "execution_count": 13,
   "metadata": {},
   "outputs": [
    {
     "name": "stderr",
     "output_type": "stream",
     "text": [
      "                                                                                \r"
     ]
    },
    {
     "data": {
      "text/plain": [
       "[('0',\n",
       "  'upset happy end high explosives update facebook texte cry result school today blah'),\n",
       " ('0', 'I dive times ball manage time save 50 rest bounds'),\n",
       " ('0', 'miss body feel itch like I think think fire'),\n",
       " ('0', 'behave I mad ante meridian amplitude modulation I I'),\n",
       " ('0', 'crew')]"
      ]
     },
     "execution_count": 13,
     "metadata": {},
     "output_type": "execute_result"
    }
   ],
   "source": [
    "df=sqlContext.read.csv('training.1600000.processed.noemoticon.csv',header=True)\n",
    "df=df.rdd\n",
    "df=df.map(lambda x:(x[0],x[5]))\n",
    "df_processed=df.map(lambda x:(x[0],preprocessingText(x[1])))\n",
    "df_processed.take(5)"
   ]
  },
  {
   "cell_type": "code",
   "execution_count": 14,
   "metadata": {},
   "outputs": [],
   "source": [
    "from pyspark.sql.types import StructField, StructType, StringType,IntegerType\n",
    "schema = StructType([\n",
    "        StructField(\"sentiment\", StringType(), True),\n",
    "        StructField(\"text\", StringType(), True)\n",
    "    ])\n",
    "df_processed=sqlContext.createDataFrame(df_processed,schema)"
   ]
  },
  {
   "cell_type": "code",
   "execution_count": 16,
   "metadata": {},
   "outputs": [
    {
     "name": "stderr",
     "output_type": "stream",
     "text": [
      "[Stage 3:>                                                          (0 + 4) / 4]\r"
     ]
    }
   ],
   "source": [
    "df_processed=df_processed.toPandas()"
   ]
  }
 ],
 "metadata": {
  "kernelspec": {
   "display_name": "Python 3",
   "language": "python",
   "name": "python3"
  },
  "language_info": {
   "codemirror_mode": {
    "name": "ipython",
    "version": 3
   },
   "file_extension": ".py",
   "mimetype": "text/x-python",
   "name": "python",
   "nbconvert_exporter": "python",
   "pygments_lexer": "ipython3",
   "version": "3.8.10"
  }
 },
 "nbformat": 4,
 "nbformat_minor": 2
}
